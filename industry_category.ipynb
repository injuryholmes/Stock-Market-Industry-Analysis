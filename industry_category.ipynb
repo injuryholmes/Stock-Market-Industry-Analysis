{
 "cells": [
  {
   "cell_type": "code",
   "execution_count": 24,
   "metadata": {},
   "outputs": [],
   "source": [
    "import tushare as ts\n",
    "import pandas as pd"
   ]
  },
  {
   "cell_type": "code",
   "execution_count": 3,
   "metadata": {},
   "outputs": [],
   "source": [
    "pro = ts.pro_api()"
   ]
  },
  {
   "cell_type": "code",
   "execution_count": 39,
   "metadata": {},
   "outputs": [],
   "source": [
    "# 获取申万一级行业列表\n",
    "df_l1 = pro.index_classify(level='L1', src='SW')\n",
    "# 获取申万二级行业列表\n",
    "df_l2 = pro.index_classify(level='L2', src='SW')\n",
    "# 获取申万三级级行业列表\n",
    "df_l3 = pro.index_classify(level='L3', src='SW')"
   ]
  },
  {
   "cell_type": "code",
   "execution_count": 42,
   "metadata": {},
   "outputs": [],
   "source": [
    "df_l1.to_csv('./data/sw_l1.csv', encoding='utf_8_sig', index=False)\n",
    "df_l2.to_csv('./data/sw_l2.csv', encoding='utf_8_sig', index=False)\n",
    "df_l3.to_csv('./data/sw_l3.csv', encoding='utf_8_sig', index=False)"
   ]
  },
  {
   "cell_type": "code",
   "execution_count": 44,
   "metadata": {},
   "outputs": [],
   "source": [
    "# read CSV file \n",
    "# pd.read_csv('./data/sw_l1.csv', encoding='utf_8_sig')"
   ]
  },
  {
   "cell_type": "code",
   "execution_count": null,
   "metadata": {},
   "outputs": [],
   "source": []
  }
 ],
 "metadata": {
  "kernelspec": {
   "display_name": "Python 3",
   "language": "python",
   "name": "python3"
  },
  "language_info": {
   "codemirror_mode": {
    "name": "ipython",
    "version": 3
   },
   "file_extension": ".py",
   "mimetype": "text/x-python",
   "name": "python",
   "nbconvert_exporter": "python",
   "pygments_lexer": "ipython3",
   "version": "3.7.5"
  }
 },
 "nbformat": 4,
 "nbformat_minor": 4
}
